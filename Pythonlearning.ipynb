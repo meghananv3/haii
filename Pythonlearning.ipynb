{
  "nbformat": 4,
  "nbformat_minor": 0,
  "metadata": {
    "colab": {
      "provenance": [],
      "authorship_tag": "ABX9TyOG+vUulM5eedB2iyTgmx71",
      "include_colab_link": true
    },
    "kernelspec": {
      "name": "python3",
      "display_name": "Python 3"
    },
    "language_info": {
      "name": "python"
    }
  },
  "cells": [
    {
      "cell_type": "markdown",
      "metadata": {
        "id": "view-in-github",
        "colab_type": "text"
      },
      "source": [
        "<a href=\"https://colab.research.google.com/github/meghananv3/haii/blob/master/Pythonlearning.ipynb\" target=\"_parent\"><img src=\"https://colab.research.google.com/assets/colab-badge.svg\" alt=\"Open In Colab\"/></a>"
      ]
    },
    {
      "cell_type": "code",
      "execution_count": null,
      "metadata": {
        "id": "SkK-ikCty1mR",
        "outputId": "3edcefbc-3403-41cc-b7bf-dc4ce3e9fc22",
        "colab": {
          "base_uri": "https://localhost:8080/"
        }
      },
      "outputs": [
        {
          "output_type": "stream",
          "name": "stdout",
          "text": [
            "['/usr/local/lib/python3.7/dist-packages/ipykernel_launcher.py', '-f', '/root/.local/share/jupyter/runtime/kernel-d3a48030-f9fa-463f-a785-5fd0ea852d2b.json'] 3\n"
          ]
        }
      ],
      "source": [
        "import sys\n",
        "print(sys.argv, len(sys.argv))"
      ]
    },
    {
      "cell_type": "code",
      "source": [
        "#prints the input funtions\n",
        "input()\n",
        "name = ''"
      ],
      "metadata": {
        "colab": {
          "base_uri": "https://localhost:8080/"
        },
        "id": "OYBGf2wH28X5",
        "outputId": "0c0a0ce7-f6ce-4381-e1e7-d914b29eea13"
      },
      "execution_count": null,
      "outputs": [
        {
          "name": "stdout",
          "output_type": "stream",
          "text": [
            "meghana\n"
          ]
        }
      ]
    },
    {
      "cell_type": "code",
      "source": [
        "#arthmetic options\n",
        "print(5*6)"
      ],
      "metadata": {
        "id": "lbKiMA9Qy6ED",
        "colab": {
          "base_uri": "https://localhost:8080/"
        },
        "outputId": "7d0ece48-5fae-4f01-8f1a-cfcae7d2229f"
      },
      "execution_count": null,
      "outputs": [
        {
          "output_type": "stream",
          "name": "stdout",
          "text": [
            "30\n"
          ]
        }
      ]
    },
    {
      "cell_type": "code",
      "source": [
        "\n",
        "print('5'*6)"
      ],
      "metadata": {
        "colab": {
          "base_uri": "https://localhost:8080/"
        },
        "id": "CR6dO58xFATG",
        "outputId": "5c8268b8-cd7d-4769-8924-7025bbdfe8b7"
      },
      "execution_count": null,
      "outputs": [
        {
          "output_type": "stream",
          "name": "stdout",
          "text": [
            "555555\n"
          ]
        }
      ]
    },
    {
      "cell_type": "code",
      "source": [
        "for i in range(0,20):\n",
        "  print(i**2,end=\" \")"
      ],
      "metadata": {
        "colab": {
          "base_uri": "https://localhost:8080/"
        },
        "id": "fqkGCNKoFEE3",
        "outputId": "20050e0b-3344-4a37-cc3b-e1ccc6727c25"
      },
      "execution_count": null,
      "outputs": [
        {
          "output_type": "stream",
          "name": "stdout",
          "text": [
            "0 1 4 9 16 25 36 49 64 81 100 121 144 169 196 225 256 289 324 361 "
          ]
        }
      ]
    },
    {
      "cell_type": "code",
      "source": [
        "4**4"
      ],
      "metadata": {
        "colab": {
          "base_uri": "https://localhost:8080/"
        },
        "id": "EWSgFu6fF4V_",
        "outputId": "818e5f38-f739-46d6-a802-ba0e710ae4d0"
      },
      "execution_count": null,
      "outputs": [
        {
          "output_type": "execute_result",
          "data": {
            "text/plain": [
              "256"
            ]
          },
          "metadata": {},
          "execution_count": 8
        }
      ]
    },
    {
      "cell_type": "code",
      "source": [
        "s = 'it is a boring day'\n",
        "s"
      ],
      "metadata": {
        "colab": {
          "base_uri": "https://localhost:8080/",
          "height": 35
        },
        "id": "-PGMHkxu0DcZ",
        "outputId": "f343eb92-442b-4052-b7c3-bc2e342bdc89"
      },
      "execution_count": null,
      "outputs": [
        {
          "output_type": "execute_result",
          "data": {
            "text/plain": [
              "'it is a boring day'"
            ],
            "application/vnd.google.colaboratory.intrinsic+json": {
              "type": "string"
            }
          },
          "metadata": {},
          "execution_count": 9
        }
      ]
    },
    {
      "cell_type": "code",
      "source": [
        "s.index('a')"
      ],
      "metadata": {
        "colab": {
          "base_uri": "https://localhost:8080/"
        },
        "id": "RS34PpqcWWGS",
        "outputId": "a8aa52cb-a7f7-48f4-e003-cfc1ddb9354e"
      },
      "execution_count": null,
      "outputs": [
        {
          "output_type": "execute_result",
          "data": {
            "text/plain": [
              "6"
            ]
          },
          "metadata": {},
          "execution_count": 10
        }
      ]
    },
    {
      "cell_type": "code",
      "source": [
        "'i' in s"
      ],
      "metadata": {
        "colab": {
          "base_uri": "https://localhost:8080/"
        },
        "id": "Ctu64UtaWd74",
        "outputId": "d1ed5bdb-d323-441b-fc2d-9e40004c26fc"
      },
      "execution_count": null,
      "outputs": [
        {
          "output_type": "execute_result",
          "data": {
            "text/plain": [
              "True"
            ]
          },
          "metadata": {},
          "execution_count": 11
        }
      ]
    },
    {
      "cell_type": "code",
      "source": [
        "'f' in s"
      ],
      "metadata": {
        "colab": {
          "base_uri": "https://localhost:8080/"
        },
        "id": "Jv-e_Xf9WrEN",
        "outputId": "47cc9a33-7aad-4e14-82df-0b1c91e4f591"
      },
      "execution_count": null,
      "outputs": [
        {
          "output_type": "execute_result",
          "data": {
            "text/plain": [
              "False"
            ]
          },
          "metadata": {},
          "execution_count": 12
        }
      ]
    },
    {
      "cell_type": "code",
      "source": [
        "t = 'I wanna go home'\n",
        "t"
      ],
      "metadata": {
        "colab": {
          "base_uri": "https://localhost:8080/",
          "height": 35
        },
        "id": "qmt01Ke2W6Bc",
        "outputId": "9ed9722e-7ec6-4969-9a94-8aa012de5dd6"
      },
      "execution_count": null,
      "outputs": [
        {
          "output_type": "execute_result",
          "data": {
            "text/plain": [
              "'I wanna go home'"
            ],
            "application/vnd.google.colaboratory.intrinsic+json": {
              "type": "string"
            }
          },
          "metadata": {},
          "execution_count": 13
        }
      ]
    },
    {
      "cell_type": "code",
      "source": [
        "cs = t+\":\"+s\n",
        "cs"
      ],
      "metadata": {
        "colab": {
          "base_uri": "https://localhost:8080/",
          "height": 35
        },
        "id": "EQV0FgajWytM",
        "outputId": "f0c89449-322a-4a41-ac22-6c613661c55a"
      },
      "execution_count": null,
      "outputs": [
        {
          "output_type": "execute_result",
          "data": {
            "text/plain": [
              "'I wanna go home:it is a boring day'"
            ],
            "application/vnd.google.colaboratory.intrinsic+json": {
              "type": "string"
            }
          },
          "metadata": {},
          "execution_count": 14
        }
      ]
    },
    {
      "cell_type": "code",
      "source": [
        "cs.split(\":\")"
      ],
      "metadata": {
        "colab": {
          "base_uri": "https://localhost:8080/"
        },
        "id": "UOhpus8xXBn1",
        "outputId": "00888aa9-a32f-4766-fb94-8cd59a652a1c"
      },
      "execution_count": null,
      "outputs": [
        {
          "output_type": "execute_result",
          "data": {
            "text/plain": [
              "['I wanna go home', 'it is a boring day']"
            ]
          },
          "metadata": {},
          "execution_count": 15
        }
      ]
    },
    {
      "cell_type": "code",
      "source": [
        "\"r\" in t"
      ],
      "metadata": {
        "colab": {
          "base_uri": "https://localhost:8080/"
        },
        "id": "roSzZNPzXsSC",
        "outputId": "15eafe3c-a08d-4043-ac44-3a0c6721e7b8"
      },
      "execution_count": null,
      "outputs": [
        {
          "output_type": "execute_result",
          "data": {
            "text/plain": [
              "False"
            ]
          },
          "metadata": {},
          "execution_count": 16
        }
      ]
    },
    {
      "cell_type": "code",
      "source": [
        "r = t.join(s)\n",
        "r"
      ],
      "metadata": {
        "colab": {
          "base_uri": "https://localhost:8080/",
          "height": 52
        },
        "id": "pafjjADVb5DU",
        "outputId": "986a8940-aa57-4835-cb67-57320d2d46a4"
      },
      "execution_count": null,
      "outputs": [
        {
          "output_type": "execute_result",
          "data": {
            "text/plain": [
              "'iI wanna go hometI wanna go home I wanna go homeiI wanna go homesI wanna go home I wanna go homeaI wanna go home I wanna go homebI wanna go homeoI wanna go homerI wanna go homeiI wanna go homenI wanna go homegI wanna go home I wanna go homedI wanna go homeaI wanna go homey'"
            ],
            "application/vnd.google.colaboratory.intrinsic+json": {
              "type": "string"
            }
          },
          "metadata": {},
          "execution_count": 17
        }
      ]
    },
    {
      "cell_type": "code",
      "source": [
        "# prints the index\n",
        "print (t[0])"
      ],
      "metadata": {
        "colab": {
          "base_uri": "https://localhost:8080/"
        },
        "id": "UxdteUqedBW2",
        "outputId": "07e7cc32-9c4d-412b-cc9b-0c816a6b7ea8"
      },
      "execution_count": null,
      "outputs": [
        {
          "output_type": "stream",
          "name": "stdout",
          "text": [
            "I\n"
          ]
        }
      ]
    },
    {
      "cell_type": "markdown",
      "source": [
        " Print First 10 natural numbers using while loop\n",
        " "
      ],
      "metadata": {
        "id": "Hne34GRwhl8n"
      }
    },
    {
      "cell_type": "code",
      "source": [
        "#while loop\n",
        "i = 1\n",
        "while i<=10:\n",
        "  print (i)\n",
        "  i += 1"
      ],
      "metadata": {
        "colab": {
          "base_uri": "https://localhost:8080/"
        },
        "id": "pKUWcYf5dajZ",
        "outputId": "52022679-1129-47d7-a46a-13cedb18994d"
      },
      "execution_count": null,
      "outputs": [
        {
          "output_type": "stream",
          "name": "stdout",
          "text": [
            "1\n",
            "2\n",
            "3\n",
            "4\n",
            "5\n",
            "6\n",
            "7\n",
            "8\n",
            "9\n",
            "10\n"
          ]
        }
      ]
    },
    {
      "cell_type": "markdown",
      "source": [
        "Calculate the multiplication and sum of two numbers"
      ],
      "metadata": {
        "id": "mf0-wcWnNcyf"
      }
    },
    {
      "cell_type": "code",
      "source": [
        "a = int(input())\n",
        "b = int(input())"
      ],
      "metadata": {
        "colab": {
          "base_uri": "https://localhost:8080/"
        },
        "id": "EZBZsSbhh2Ax",
        "outputId": "763ddcbb-bd72-4ae5-e983-c6096ca0c369"
      },
      "execution_count": null,
      "outputs": [
        {
          "name": "stdout",
          "output_type": "stream",
          "text": [
            "56\n",
            "78\n"
          ]
        }
      ]
    },
    {
      "cell_type": "code",
      "source": [
        "pro = a*b\n",
        "result = (a+b) if pro<1000 else pro\n",
        "result"
      ],
      "metadata": {
        "colab": {
          "base_uri": "https://localhost:8080/"
        },
        "id": "0VFEEeA9OP6V",
        "outputId": "d10952f7-c27b-4f36-f4f2-1b2714e19afc"
      },
      "execution_count": null,
      "outputs": [
        {
          "output_type": "execute_result",
          "data": {
            "text/plain": [
              "4368"
            ]
          },
          "metadata": {},
          "execution_count": 21
        }
      ]
    },
    {
      "cell_type": "markdown",
      "source": [
        "Write a program to iterate the first 10 numbers and in each iteration, print the sum of the current and previous number."
      ],
      "metadata": {
        "id": "Pr8zb8YWX7bY"
      }
    },
    {
      "cell_type": "code",
      "source": [
        "for i in range(1,11):\n",
        "  j=0\n",
        "  j = i+1\n",
        "  print(\"Current Number\", i, \"Previous Number \", j, \" Sum: \", j + i)\n",
        "  print(j)\n"
      ],
      "metadata": {
        "colab": {
          "base_uri": "https://localhost:8080/"
        },
        "id": "X9dmpe6UQYjz",
        "outputId": "76f543f5-0571-402f-8157-0064f7756de8"
      },
      "execution_count": null,
      "outputs": [
        {
          "output_type": "stream",
          "name": "stdout",
          "text": [
            "Current Number 1 Previous Number  2  Sum:  3\n",
            "2\n",
            "Current Number 2 Previous Number  3  Sum:  5\n",
            "3\n",
            "Current Number 3 Previous Number  4  Sum:  7\n",
            "4\n",
            "Current Number 4 Previous Number  5  Sum:  9\n",
            "5\n",
            "Current Number 5 Previous Number  6  Sum:  11\n",
            "6\n",
            "Current Number 6 Previous Number  7  Sum:  13\n",
            "7\n",
            "Current Number 7 Previous Number  8  Sum:  15\n",
            "8\n",
            "Current Number 8 Previous Number  9  Sum:  17\n",
            "9\n",
            "Current Number 9 Previous Number  10  Sum:  19\n",
            "10\n",
            "Current Number 10 Previous Number  11  Sum:  21\n",
            "11\n"
          ]
        }
      ]
    },
    {
      "cell_type": "markdown",
      "source": [
        "Write a program to accept a string from the user and display characters that are present at an even index number.\n",
        "\n",
        "\n"
      ],
      "metadata": {
        "id": "URwPQN3Rdh4v"
      }
    },
    {
      "cell_type": "code",
      "source": [
        "s = str(input())\n",
        "t = s[0::2]\n",
        "print(t)"
      ],
      "metadata": {
        "colab": {
          "base_uri": "https://localhost:8080/"
        },
        "id": "penx84sEX6WV",
        "outputId": "d2e75172-4be8-489c-ffd7-31b26e8dc7a8"
      },
      "execution_count": null,
      "outputs": [
        {
          "output_type": "stream",
          "name": "stdout",
          "text": [
            "find\n",
            "fn\n"
          ]
        }
      ]
    },
    {
      "cell_type": "markdown",
      "source": [
        "Write a program to remove characters from a string starting from zero up to n and return a new string."
      ],
      "metadata": {
        "id": "ziQIN1C4fiQ2"
      }
    },
    {
      "cell_type": "code",
      "source": [
        "def st_num():\n",
        "  s= str(input())\n",
        "  n= int(input())\n",
        "  t = s[n:]\n",
        "  return t\n",
        "\n"
      ],
      "metadata": {
        "id": "xYNb7GVaei-O"
      },
      "execution_count": null,
      "outputs": []
    },
    {
      "cell_type": "code",
      "source": [
        "st_num()"
      ],
      "metadata": {
        "colab": {
          "base_uri": "https://localhost:8080/",
          "height": 70
        },
        "id": "bno92MKvzqHY",
        "outputId": "7b96d56b-464f-4042-a724-1758a5d875ec"
      },
      "execution_count": null,
      "outputs": [
        {
          "name": "stdout",
          "output_type": "stream",
          "text": [
            "random\n",
            "4\n"
          ]
        },
        {
          "output_type": "execute_result",
          "data": {
            "text/plain": [
              "'om'"
            ],
            "application/vnd.google.colaboratory.intrinsic+json": {
              "type": "string"
            }
          },
          "metadata": {},
          "execution_count": 25
        }
      ]
    },
    {
      "cell_type": "markdown",
      "source": [
        "Write a function to return True if the first and last number of a given list is same. If numbers are different then return False."
      ],
      "metadata": {
        "id": "l25v1QlU1Cuj"
      }
    },
    {
      "cell_type": "code",
      "source": [
        "def first_last_same(numberList):\n",
        "    print(\"Given list:\", numberList)\n",
        "    \n",
        "    first_num = numberList[0]\n",
        "    last_num = numberList[-1]\n",
        "    \n",
        "    if first_num == last_num:\n",
        "        return True\n",
        "    else:\n",
        "        return False\n"
      ],
      "metadata": {
        "id": "NiZsq1pfz_Ks"
      },
      "execution_count": null,
      "outputs": []
    },
    {
      "cell_type": "markdown",
      "source": [
        "Display numbers divisible by 5 from a list"
      ],
      "metadata": {
        "id": "T0hKNqepJSvu"
      }
    },
    {
      "cell_type": "code",
      "source": [
        "num_list = [10, 20, 33, 46, 55]\n",
        "print(\"Given list:\", num_list)\n",
        "print('Divisible by 5:')\n",
        "for num in num_list:\n",
        "    if num % 5 == 0:\n",
        "        print(num)"
      ],
      "metadata": {
        "colab": {
          "base_uri": "https://localhost:8080/"
        },
        "id": "kBYGsv3s2yJr",
        "outputId": "8eb21605-e101-499b-bc1c-2182f360aa0c"
      },
      "execution_count": null,
      "outputs": [
        {
          "output_type": "stream",
          "name": "stdout",
          "text": [
            "Given list: [10, 20, 33, 46, 55]\n",
            "Divisible by 5:\n",
            "10\n",
            "20\n",
            "55\n"
          ]
        }
      ]
    },
    {
      "cell_type": "markdown",
      "source": [
        "Return the count of a given substring from a string"
      ],
      "metadata": {
        "id": "J0hBLTvzN9Cs"
      }
    },
    {
      "cell_type": "code",
      "source": [
        "sr = \"I am sorry,sorry for giving you wrong impression\"\n"
      ],
      "metadata": {
        "id": "uLZ0Moxq22jF"
      },
      "execution_count": null,
      "outputs": []
    },
    {
      "cell_type": "code",
      "source": [
        "cnt = sr.count(\"sorry\")\n",
        "print(cnt)"
      ],
      "metadata": {
        "colab": {
          "base_uri": "https://localhost:8080/"
        },
        "id": "zFy6nSIQbS-I",
        "outputId": "074b42b6-f364-4ee1-aaa4-2adfd6e14e04"
      },
      "execution_count": null,
      "outputs": [
        {
          "output_type": "stream",
          "name": "stdout",
          "text": [
            "2\n"
          ]
        }
      ]
    },
    {
      "cell_type": "markdown",
      "source": [
        "Print a triangle"
      ],
      "metadata": {
        "id": "EQtQOh0mbojb"
      }
    },
    {
      "cell_type": "code",
      "source": [
        "rows = 6\n",
        "for i in range(rows):\n",
        "    # nested loop\n",
        "    for j in range(i):\n",
        "        # display number\n",
        "        print(i, end=' ')\n",
        "    # new line after each row\n",
        "    print('')\n"
      ],
      "metadata": {
        "colab": {
          "base_uri": "https://localhost:8080/"
        },
        "id": "qOIrGFAmbXq8",
        "outputId": "3de1c3db-b640-431c-fe7d-10b7cb55833b"
      },
      "execution_count": null,
      "outputs": [
        {
          "output_type": "stream",
          "name": "stdout",
          "text": [
            "\n",
            "1 \n",
            "2 2 \n",
            "3 3 3 \n",
            "4 4 4 4 \n",
            "5 5 5 5 5 \n"
          ]
        }
      ]
    },
    {
      "cell_type": "markdown",
      "source": [
        "Check Palindrome Number"
      ],
      "metadata": {
        "id": "_w8ortDYcJOT"
      }
    },
    {
      "cell_type": "code",
      "source": [
        "def palindrome(number):\n",
        "    print(\"original number\", number)\n",
        "    original_num = number\n",
        "    \n",
        "    # reverse the given number\n",
        "    reverse_num = 0\n",
        "    while number > 0:\n",
        "        reminder = number % 10\n",
        "        reverse_num = (reverse_num * 10) + reminder\n",
        "        number = number // 10\n",
        "\n",
        "    # check numbers\n",
        "    if original_num == reverse_num:\n",
        "        print(\"Given number palindrome\")\n",
        "    else:\n",
        "        print(\"Given number is not palindrome\")\n",
        "\n",
        "palindrome(121)\n",
        "palindrome(125)"
      ],
      "metadata": {
        "id": "U9sRK881boBq",
        "outputId": "4ec7e6cb-c325-40c0-f932-5afb719f47ed",
        "colab": {
          "base_uri": "https://localhost:8080/"
        }
      },
      "execution_count": null,
      "outputs": [
        {
          "output_type": "stream",
          "name": "stdout",
          "text": [
            "original number 121\n",
            "Given number palindrome\n",
            "original number 125\n",
            "Given number is not palindrome\n"
          ]
        }
      ]
    },
    {
      "cell_type": "markdown",
      "source": [
        "Given a two list of numbers, write a program to create a new list such that the new list should contain odd numbers from the first list and even numbers from the second list."
      ],
      "metadata": {
        "id": "Ntyi8CJSzPBt"
      }
    },
    {
      "cell_type": "code",
      "source": [
        "def merge_list(list1, list2):\n",
        "    result_list = []\n",
        "    \n",
        "    # iterate first list\n",
        "    for num in list1:\n",
        "        # check if current number is odd\n",
        "        if num % 2 != 0:\n",
        "            # add odd number to result list\n",
        "            result_list.append(num)\n",
        "    \n",
        "    # iterate second list\n",
        "    for num in list2:\n",
        "        # check if current number is even\n",
        "        if num % 2 == 0:\n",
        "            # add even number to result list\n",
        "            result_list.append(num)\n",
        "    return result_list\n",
        "\n",
        "list1 = [10, 20, 25, 30, 35]\n",
        "list2 = [40, 45, 60, 75, 90]\n",
        "print(\"result list:\", merge_list(list1, list2))"
      ],
      "metadata": {
        "id": "0I_mXSFvJy_M",
        "colab": {
          "base_uri": "https://localhost:8080/"
        },
        "outputId": "1711394a-0c0b-4546-ba57-3c7afb1b9155"
      },
      "execution_count": null,
      "outputs": [
        {
          "output_type": "stream",
          "name": "stdout",
          "text": [
            "result list: [25, 35, 40, 60, 90]\n"
          ]
        }
      ]
    },
    {
      "cell_type": "markdown",
      "source": [
        "Write a Program to extract each digit from an integer in the reverse order.\n"
      ],
      "metadata": {
        "id": "RqG4IWsz1p2t"
      }
    },
    {
      "cell_type": "code",
      "source": [
        "number = 7536\n",
        "print(\"Given number\", number)\n",
        "while number > 0:\n",
        "    # get the last digit\n",
        "    digit = number % 10\n",
        "    # remove the last digit and repeat the loop\n",
        "    number = number // 10\n",
        "    print(digit, end=\" \")"
      ],
      "metadata": {
        "colab": {
          "base_uri": "https://localhost:8080/"
        },
        "id": "egBzrRcO1vpg",
        "outputId": "9d1397ac-8ea7-4bfe-c8ed-18f002b94961"
      },
      "execution_count": null,
      "outputs": [
        {
          "output_type": "stream",
          "name": "stdout",
          "text": [
            "Given number 7536\n",
            "6 3 5 7 "
          ]
        }
      ]
    },
    {
      "cell_type": "code",
      "source": [
        "list1=[1,2,3,4,5]\n",
        "res = for i in list1;\n",
        "      print(i,(i+1))\n",
        "  \n"
      ],
      "metadata": {
        "colab": {
          "base_uri": "https://localhost:8080/",
          "height": 131
        },
        "id": "cm9kEt7I2MQC",
        "outputId": "e4eca217-6362-4943-959c-c2315c42d788"
      },
      "execution_count": null,
      "outputs": [
        {
          "output_type": "error",
          "ename": "SyntaxError",
          "evalue": "ignored",
          "traceback": [
            "\u001b[0;36m  File \u001b[0;32m\"<ipython-input-5-bbcad0844d8a>\"\u001b[0;36m, line \u001b[0;32m2\u001b[0m\n\u001b[0;31m    res = for i in list1;\u001b[0m\n\u001b[0m            ^\u001b[0m\n\u001b[0;31mSyntaxError\u001b[0m\u001b[0;31m:\u001b[0m invalid syntax\n"
          ]
        }
      ]
    },
    {
      "cell_type": "code",
      "source": [
        "print( 5 % 3 * 3 )"
      ],
      "metadata": {
        "id": "RbGy68Ovl-Ss",
        "colab": {
          "base_uri": "https://localhost:8080/"
        },
        "outputId": "ae9027b8-abd9-4949-a671-9c9baa4804bb"
      },
      "execution_count": null,
      "outputs": [
        {
          "output_type": "stream",
          "name": "stdout",
          "text": [
            "6\n"
          ]
        }
      ]
    },
    {
      "cell_type": "markdown",
      "source": [
        "Print multiplication table form 1 to 10"
      ],
      "metadata": {
        "id": "hk1WauHMENo_"
      }
    },
    {
      "cell_type": "code",
      "source": [
        "for i in range (1,11):\n",
        "  for j in range (1,11):\n",
        "    print(i*j)\n",
        "  print(\"\\t\\t\")"
      ],
      "metadata": {
        "id": "9Zjd19C5io9E",
        "colab": {
          "base_uri": "https://localhost:8080/"
        },
        "outputId": "9d72ce29-f92f-4034-9441-8ebc4d6ca651"
      },
      "execution_count": 3,
      "outputs": [
        {
          "output_type": "stream",
          "name": "stdout",
          "text": [
            "1\n",
            "2\n",
            "3\n",
            "4\n",
            "5\n",
            "6\n",
            "7\n",
            "8\n",
            "9\n",
            "10\n",
            "\t\t\n",
            "2\n",
            "4\n",
            "6\n",
            "8\n",
            "10\n",
            "12\n",
            "14\n",
            "16\n",
            "18\n",
            "20\n",
            "\t\t\n",
            "3\n",
            "6\n",
            "9\n",
            "12\n",
            "15\n",
            "18\n",
            "21\n",
            "24\n",
            "27\n",
            "30\n",
            "\t\t\n",
            "4\n",
            "8\n",
            "12\n",
            "16\n",
            "20\n",
            "24\n",
            "28\n",
            "32\n",
            "36\n",
            "40\n",
            "\t\t\n",
            "5\n",
            "10\n",
            "15\n",
            "20\n",
            "25\n",
            "30\n",
            "35\n",
            "40\n",
            "45\n",
            "50\n",
            "\t\t\n",
            "6\n",
            "12\n",
            "18\n",
            "24\n",
            "30\n",
            "36\n",
            "42\n",
            "48\n",
            "54\n",
            "60\n",
            "\t\t\n",
            "7\n",
            "14\n",
            "21\n",
            "28\n",
            "35\n",
            "42\n",
            "49\n",
            "56\n",
            "63\n",
            "70\n",
            "\t\t\n",
            "8\n",
            "16\n",
            "24\n",
            "32\n",
            "40\n",
            "48\n",
            "56\n",
            "64\n",
            "72\n",
            "80\n",
            "\t\t\n",
            "9\n",
            "18\n",
            "27\n",
            "36\n",
            "45\n",
            "54\n",
            "63\n",
            "72\n",
            "81\n",
            "90\n",
            "\t\t\n",
            "10\n",
            "20\n",
            "30\n",
            "40\n",
            "50\n",
            "60\n",
            "70\n",
            "80\n",
            "90\n",
            "100\n",
            "\t\t\n"
          ]
        }
      ]
    },
    {
      "cell_type": "markdown",
      "source": [
        "Print downward Half-Pyramid Pattern with Star (asterisk)"
      ],
      "metadata": {
        "id": "JHU5Z1fWFjc4"
      }
    },
    {
      "cell_type": "code",
      "source": [],
      "metadata": {
        "id": "X3ASWjtYENPm"
      },
      "execution_count": null,
      "outputs": []
    }
  ]
}